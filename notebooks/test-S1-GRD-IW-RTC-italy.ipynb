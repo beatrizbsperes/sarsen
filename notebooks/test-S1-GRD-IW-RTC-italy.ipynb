{
 "cells": [
  {
   "cell_type": "code",
   "execution_count": 1,
   "id": "1391c47f-d76e-4840-8eed-d547b4784331",
   "metadata": {},
   "outputs": [],
   "source": [
    "%load_ext autoreload\n",
    "%autoreload 2\n",
    "\n",
    "%matplotlib inline\n",
    "%config InlineBackend.figure_format = 'retina'\n",
    "\n",
    "import matplotlib.pyplot as plt\n",
    "import logging\n",
    "\n",
    "# logger = logging.basicConfig(level=logging.INFO)\n",
    "\n",
    "plt.rcParams[\"figure.figsize\"] = (10, 7)\n",
    "plt.rcParams[\"font.size\"] = 12"
   ]
  },
  {
   "cell_type": "markdown",
   "id": "4611867b-79d3-46f6-9c38-ac3b44a17ad7",
   "metadata": {},
   "source": [
    "## install dependencies"
   ]
  },
  {
   "cell_type": "code",
   "execution_count": null,
   "id": "f552f512-205d-4812-9fa4-5f1572edce12",
   "metadata": {},
   "outputs": [],
   "source": [
    "# !mamba install -c conda-forge -y make proj-data sentinelsat xmlschema"
   ]
  },
  {
   "cell_type": "code",
   "execution_count": 2,
   "id": "a757e10c-fb0c-403f-b5ee-9af96f06e2a3",
   "metadata": {},
   "outputs": [
    {
     "name": "stdout",
     "output_type": "stream",
     "text": [
      "Requirement already satisfied: elevation in /opt/anaconda3/envs/eopf_toolkit/lib/python3.13/site-packages (1.1.3)\n",
      "Requirement already satisfied: sarsen in /opt/anaconda3/envs/eopf_toolkit/lib/python3.13/site-packages (0.9.5)\n",
      "Requirement already satisfied: xarray-sentinel in /opt/anaconda3/envs/eopf_toolkit/lib/python3.13/site-packages (0.9.5)\n",
      "Requirement already satisfied: appdirs in /opt/anaconda3/envs/eopf_toolkit/lib/python3.13/site-packages (from elevation) (1.4.4)\n",
      "Requirement already satisfied: click in /opt/anaconda3/envs/eopf_toolkit/lib/python3.13/site-packages (from elevation) (8.2.1)\n",
      "Requirement already satisfied: fasteners in /opt/anaconda3/envs/eopf_toolkit/lib/python3.13/site-packages (from elevation) (0.19)\n",
      "Requirement already satisfied: attrs>=24.0 in /opt/anaconda3/envs/eopf_toolkit/lib/python3.13/site-packages (from sarsen) (25.3.0)\n",
      "Requirement already satisfied: dask>=2023.2.0 in /opt/anaconda3/envs/eopf_toolkit/lib/python3.13/site-packages (from sarsen) (2025.5.1)\n",
      "Requirement already satisfied: flox>=0.9.13 in /opt/anaconda3/envs/eopf_toolkit/lib/python3.13/site-packages (from sarsen) (0.10.4)\n",
      "Requirement already satisfied: numpy>=1.23.0 in /opt/anaconda3/envs/eopf_toolkit/lib/python3.13/site-packages (from sarsen) (2.2.6)\n",
      "Requirement already satisfied: pandas>=1.4.0 in /opt/anaconda3/envs/eopf_toolkit/lib/python3.13/site-packages (from sarsen) (2.2.3)\n",
      "Requirement already satisfied: rioxarray>=0.15.0 in /opt/anaconda3/envs/eopf_toolkit/lib/python3.13/site-packages (from sarsen) (0.19.0)\n",
      "Requirement already satisfied: typer>=0.11 in /opt/anaconda3/envs/eopf_toolkit/lib/python3.13/site-packages (from sarsen) (0.16.0)\n",
      "Requirement already satisfied: xarray>=2023.12.0 in /opt/anaconda3/envs/eopf_toolkit/lib/python3.13/site-packages (from sarsen) (2025.7.0)\n",
      "Requirement already satisfied: fsspec in /opt/anaconda3/envs/eopf_toolkit/lib/python3.13/site-packages (from xarray-sentinel) (2025.5.1)\n",
      "Requirement already satisfied: xmlschema in /opt/anaconda3/envs/eopf_toolkit/lib/python3.13/site-packages (from xarray-sentinel) (4.1.0)\n",
      "Requirement already satisfied: cloudpickle>=3.0.0 in /opt/anaconda3/envs/eopf_toolkit/lib/python3.13/site-packages (from dask>=2023.2.0->sarsen) (3.1.1)\n",
      "Requirement already satisfied: packaging>=20.0 in /opt/anaconda3/envs/eopf_toolkit/lib/python3.13/site-packages (from dask>=2023.2.0->sarsen) (24.2)\n",
      "Requirement already satisfied: partd>=1.4.0 in /opt/anaconda3/envs/eopf_toolkit/lib/python3.13/site-packages (from dask>=2023.2.0->sarsen) (1.4.2)\n",
      "Requirement already satisfied: pyyaml>=5.3.1 in /opt/anaconda3/envs/eopf_toolkit/lib/python3.13/site-packages (from dask>=2023.2.0->sarsen) (6.0.2)\n",
      "Requirement already satisfied: toolz>=0.10.0 in /opt/anaconda3/envs/eopf_toolkit/lib/python3.13/site-packages (from dask>=2023.2.0->sarsen) (1.0.0)\n",
      "Requirement already satisfied: numpy_groupies>=0.9.19 in /opt/anaconda3/envs/eopf_toolkit/lib/python3.13/site-packages (from flox>=0.9.13->sarsen) (0.11.3)\n",
      "Requirement already satisfied: scipy>=1.9 in /opt/anaconda3/envs/eopf_toolkit/lib/python3.13/site-packages (from flox>=0.9.13->sarsen) (1.16.0)\n",
      "Requirement already satisfied: python-dateutil>=2.8.2 in /opt/anaconda3/envs/eopf_toolkit/lib/python3.13/site-packages (from pandas>=1.4.0->sarsen) (2.9.0.post0)\n",
      "Requirement already satisfied: pytz>=2020.1 in /opt/anaconda3/envs/eopf_toolkit/lib/python3.13/site-packages (from pandas>=1.4.0->sarsen) (2024.1)\n",
      "Requirement already satisfied: tzdata>=2022.7 in /opt/anaconda3/envs/eopf_toolkit/lib/python3.13/site-packages (from pandas>=1.4.0->sarsen) (2025.2)\n",
      "Requirement already satisfied: locket in /opt/anaconda3/envs/eopf_toolkit/lib/python3.13/site-packages (from partd>=1.4.0->dask>=2023.2.0->sarsen) (1.0.0)\n",
      "Requirement already satisfied: six>=1.5 in /opt/anaconda3/envs/eopf_toolkit/lib/python3.13/site-packages (from python-dateutil>=2.8.2->pandas>=1.4.0->sarsen) (1.17.0)\n",
      "Requirement already satisfied: rasterio>=1.4.3 in /opt/anaconda3/envs/eopf_toolkit/lib/python3.13/site-packages (from rioxarray>=0.15.0->sarsen) (1.4.3)\n",
      "Requirement already satisfied: pyproj>=3.3 in /opt/anaconda3/envs/eopf_toolkit/lib/python3.13/site-packages (from rioxarray>=0.15.0->sarsen) (3.6.1)\n",
      "Requirement already satisfied: certifi in /opt/anaconda3/envs/eopf_toolkit/lib/python3.13/site-packages (from pyproj>=3.3->rioxarray>=0.15.0->sarsen) (2025.7.14)\n",
      "Requirement already satisfied: affine in /opt/anaconda3/envs/eopf_toolkit/lib/python3.13/site-packages (from rasterio>=1.4.3->rioxarray>=0.15.0->sarsen) (2.4.0)\n",
      "Requirement already satisfied: cligj>=0.5 in /opt/anaconda3/envs/eopf_toolkit/lib/python3.13/site-packages (from rasterio>=1.4.3->rioxarray>=0.15.0->sarsen) (0.7.2)\n",
      "Requirement already satisfied: click-plugins in /opt/anaconda3/envs/eopf_toolkit/lib/python3.13/site-packages (from rasterio>=1.4.3->rioxarray>=0.15.0->sarsen) (1.1.1.2)\n",
      "Requirement already satisfied: pyparsing in /opt/anaconda3/envs/eopf_toolkit/lib/python3.13/site-packages (from rasterio>=1.4.3->rioxarray>=0.15.0->sarsen) (3.2.3)\n",
      "Requirement already satisfied: typing-extensions>=3.7.4.3 in /opt/anaconda3/envs/eopf_toolkit/lib/python3.13/site-packages (from typer>=0.11->sarsen) (4.14.1)\n",
      "Requirement already satisfied: shellingham>=1.3.0 in /opt/anaconda3/envs/eopf_toolkit/lib/python3.13/site-packages (from typer>=0.11->sarsen) (1.5.4)\n",
      "Requirement already satisfied: rich>=10.11.0 in /opt/anaconda3/envs/eopf_toolkit/lib/python3.13/site-packages (from typer>=0.11->sarsen) (14.0.0)\n",
      "Requirement already satisfied: markdown-it-py>=2.2.0 in /opt/anaconda3/envs/eopf_toolkit/lib/python3.13/site-packages (from rich>=10.11.0->typer>=0.11->sarsen) (3.0.0)\n",
      "Requirement already satisfied: pygments<3.0.0,>=2.13.0 in /opt/anaconda3/envs/eopf_toolkit/lib/python3.13/site-packages (from rich>=10.11.0->typer>=0.11->sarsen) (2.19.1)\n",
      "Requirement already satisfied: mdurl~=0.1 in /opt/anaconda3/envs/eopf_toolkit/lib/python3.13/site-packages (from markdown-it-py>=2.2.0->rich>=10.11.0->typer>=0.11->sarsen) (0.1.2)\n",
      "Requirement already satisfied: elementpath<6.0.0,>=5.0.1 in /opt/anaconda3/envs/eopf_toolkit/lib/python3.13/site-packages (from xmlschema->xarray-sentinel) (5.0.3)\n"
     ]
    }
   ],
   "source": [
    "!pip install elevation sarsen xarray-sentinel"
   ]
  },
  {
   "cell_type": "code",
   "execution_count": 3,
   "id": "01386435",
   "metadata": {},
   "outputs": [],
   "source": [
    "import os\n",
    "\n",
    "import numpy as np\n",
    "import rioxarray  # enable the `.rio` accessor\n",
    "import xarray as xr\n",
    "\n",
    "from sarsen import apps, scene"
   ]
  },
  {
   "cell_type": "markdown",
   "id": "86970ee8",
   "metadata": {},
   "source": [
    "## processing definition"
   ]
  },
  {
   "cell_type": "code",
   "execution_count": 19,
   "id": "dce0c439",
   "metadata": {},
   "outputs": [],
   "source": [
    "# os.makedirs(\"data\", exist_ok=True)\n",
    "dem_urlpath = \"notebooks/output_SRTMGL3.tif\"\n",
    "dem_10m_UTM_urlpath = dem_urlpath.strip(\".tif\") + \"_10m_UTM.tif\"\n",
    "\n",
    "product_folder = \"https://objectstore.eodc.eu:2222/e05ab01a9d56408d82ac32d69a5aae2a:sample-data/tutorial_data/cpm_b716/S1A_IW_GRDH_1SDV_20170508T164830_20170508T164855_016493_01B54C_8604.zarr\"\n",
    "measurement_group = \"S01SIWGRD_20170508T164830_0025_A094_8604_01B54C_VH\""
   ]
  },
  {
   "cell_type": "markdown",
   "id": "19adb6a3-26a4-4fdb-862a-1f6aa4f2abf6",
   "metadata": {},
   "source": [
    "## download DEM"
   ]
  },
  {
   "cell_type": "code",
   "execution_count": 20,
   "id": "65ae53fb",
   "metadata": {},
   "outputs": [],
   "source": [
    "import elevation"
   ]
  },
  {
   "cell_type": "code",
   "execution_count": 21,
   "id": "bf19616d",
   "metadata": {},
   "outputs": [],
   "source": [
    "# ! eio clip -o {dem_urlpath} --bounds 13.1 42. 13.95 42.75"
   ]
  },
  {
   "cell_type": "markdown",
   "id": "c508e760",
   "metadata": {},
   "source": [
    "### RESAMPLING UTM DEM"
   ]
  },
  {
   "cell_type": "markdown",
   "id": "cc49ad59",
   "metadata": {},
   "source": [
    "#### 10 meters"
   ]
  },
  {
   "cell_type": "code",
   "execution_count": 23,
   "id": "aff909eb",
   "metadata": {},
   "outputs": [
    {
     "ename": "RasterioIOError",
     "evalue": "notebooks/output_SRTMGL3.tif: No such file or directory",
     "output_type": "error",
     "traceback": [
      "\u001b[31m---------------------------------------------------------------------------\u001b[39m",
      "\u001b[31mKeyError\u001b[39m                                  Traceback (most recent call last)",
      "\u001b[36mFile \u001b[39m\u001b[32m/opt/anaconda3/envs/eopf_toolkit/lib/python3.13/site-packages/xarray/backends/file_manager.py:211\u001b[39m, in \u001b[36mCachingFileManager._acquire_with_cache_info\u001b[39m\u001b[34m(self, needs_lock)\u001b[39m\n\u001b[32m    210\u001b[39m \u001b[38;5;28;01mtry\u001b[39;00m:\n\u001b[32m--> \u001b[39m\u001b[32m211\u001b[39m     file = \u001b[38;5;28mself\u001b[39m._cache[\u001b[38;5;28mself\u001b[39m._key]\n\u001b[32m    212\u001b[39m \u001b[38;5;28;01mexcept\u001b[39;00m \u001b[38;5;167;01mKeyError\u001b[39;00m:\n",
      "\u001b[36mFile \u001b[39m\u001b[32m/opt/anaconda3/envs/eopf_toolkit/lib/python3.13/site-packages/xarray/backends/lru_cache.py:56\u001b[39m, in \u001b[36mLRUCache.__getitem__\u001b[39m\u001b[34m(self, key)\u001b[39m\n\u001b[32m     55\u001b[39m \u001b[38;5;28;01mwith\u001b[39;00m \u001b[38;5;28mself\u001b[39m._lock:\n\u001b[32m---> \u001b[39m\u001b[32m56\u001b[39m     value = \u001b[38;5;28mself\u001b[39m._cache[key]\n\u001b[32m     57\u001b[39m     \u001b[38;5;28mself\u001b[39m._cache.move_to_end(key)\n",
      "\u001b[31mKeyError\u001b[39m: [<function open at 0x1580067a0>, ('notebooks/output_SRTMGL3.tif',), 'r', (('sharing', False),), 'f0f05429-d730-4c12-aa0b-f992805d7b73']",
      "\nDuring handling of the above exception, another exception occurred:\n",
      "\u001b[31mCPLE_OpenFailedError\u001b[39m                      Traceback (most recent call last)",
      "\u001b[36mFile \u001b[39m\u001b[32mrasterio/_base.pyx:310\u001b[39m, in \u001b[36mrasterio._base.DatasetBase.__init__\u001b[39m\u001b[34m()\u001b[39m\n",
      "\u001b[36mFile \u001b[39m\u001b[32mrasterio/_base.pyx:221\u001b[39m, in \u001b[36mrasterio._base.open_dataset\u001b[39m\u001b[34m()\u001b[39m\n",
      "\u001b[36mFile \u001b[39m\u001b[32mrasterio/_err.pyx:359\u001b[39m, in \u001b[36mrasterio._err.exc_wrap_pointer\u001b[39m\u001b[34m()\u001b[39m\n",
      "\u001b[31mCPLE_OpenFailedError\u001b[39m: notebooks/output_SRTMGL3.tif: No such file or directory",
      "\nDuring handling of the above exception, another exception occurred:\n",
      "\u001b[31mRasterioIOError\u001b[39m                           Traceback (most recent call last)",
      "\u001b[36mCell\u001b[39m\u001b[36m \u001b[39m\u001b[32mIn[23]\u001b[39m\u001b[32m, line 1\u001b[39m\n\u001b[32m----> \u001b[39m\u001b[32m1\u001b[39m dem_raster = scene.open_dem_raster(dem_urlpath)\n\u001b[32m      2\u001b[39m _ = dem_raster.plot()\n",
      "\u001b[36mFile \u001b[39m\u001b[32m/opt/anaconda3/envs/eopf_toolkit/lib/python3.13/site-packages/sarsen/scene.py:20\u001b[39m, in \u001b[36mopen_dem_raster\u001b[39m\u001b[34m(dem_urlpath, engine, **kwargs)\u001b[39m\n\u001b[32m     17\u001b[39m \u001b[38;5;28;01mdef\u001b[39;00m\u001b[38;5;250m \u001b[39m\u001b[34mopen_dem_raster\u001b[39m(\n\u001b[32m     18\u001b[39m     dem_urlpath: \u001b[38;5;28mstr\u001b[39m, engine: \u001b[38;5;28mstr\u001b[39m = \u001b[33m\"\u001b[39m\u001b[33mrasterio\u001b[39m\u001b[33m\"\u001b[39m, **kwargs: Any\n\u001b[32m     19\u001b[39m ) -> xr.DataArray:\n\u001b[32m---> \u001b[39m\u001b[32m20\u001b[39m     dem_raster = xr.open_dataarray(dem_urlpath, engine=engine, **kwargs)\n\u001b[32m     21\u001b[39m     \u001b[38;5;28;01mif\u001b[39;00m dem_raster.y.diff(\u001b[33m\"\u001b[39m\u001b[33my\u001b[39m\u001b[33m\"\u001b[39m).values[\u001b[32m0\u001b[39m] < \u001b[32m0\u001b[39m:\n\u001b[32m     22\u001b[39m         dem_raster = dem_raster.isel(y=\u001b[38;5;28mslice\u001b[39m(\u001b[38;5;28;01mNone\u001b[39;00m, \u001b[38;5;28;01mNone\u001b[39;00m, -\u001b[32m1\u001b[39m))\n",
      "\u001b[36mFile \u001b[39m\u001b[32m/opt/anaconda3/envs/eopf_toolkit/lib/python3.13/site-packages/xarray/backends/api.py:882\u001b[39m, in \u001b[36mopen_dataarray\u001b[39m\u001b[34m(filename_or_obj, engine, chunks, cache, decode_cf, mask_and_scale, decode_times, decode_timedelta, use_cftime, concat_characters, decode_coords, drop_variables, inline_array, chunked_array_type, from_array_kwargs, backend_kwargs, **kwargs)\u001b[39m\n\u001b[32m    711\u001b[39m \u001b[38;5;28;01mdef\u001b[39;00m\u001b[38;5;250m \u001b[39m\u001b[34mopen_dataarray\u001b[39m(\n\u001b[32m    712\u001b[39m     filename_or_obj: \u001b[38;5;28mstr\u001b[39m | os.PathLike[Any] | ReadBuffer | AbstractDataStore,\n\u001b[32m    713\u001b[39m     *,\n\u001b[32m   (...)\u001b[39m\u001b[32m    732\u001b[39m     **kwargs,\n\u001b[32m    733\u001b[39m ) -> DataArray:\n\u001b[32m    734\u001b[39m \u001b[38;5;250m    \u001b[39m\u001b[33;03m\"\"\"Open an DataArray from a file or file-like object containing a single\u001b[39;00m\n\u001b[32m    735\u001b[39m \u001b[33;03m    data variable.\u001b[39;00m\n\u001b[32m    736\u001b[39m \n\u001b[32m   (...)\u001b[39m\u001b[32m    879\u001b[39m \u001b[33;03m    open_dataset\u001b[39;00m\n\u001b[32m    880\u001b[39m \u001b[33;03m    \"\"\"\u001b[39;00m\n\u001b[32m--> \u001b[39m\u001b[32m882\u001b[39m     dataset = open_dataset(\n\u001b[32m    883\u001b[39m         filename_or_obj,\n\u001b[32m    884\u001b[39m         decode_cf=decode_cf,\n\u001b[32m    885\u001b[39m         mask_and_scale=mask_and_scale,\n\u001b[32m    886\u001b[39m         decode_times=decode_times,\n\u001b[32m    887\u001b[39m         concat_characters=concat_characters,\n\u001b[32m    888\u001b[39m         decode_coords=decode_coords,\n\u001b[32m    889\u001b[39m         engine=engine,\n\u001b[32m    890\u001b[39m         chunks=chunks,\n\u001b[32m    891\u001b[39m         cache=cache,\n\u001b[32m    892\u001b[39m         drop_variables=drop_variables,\n\u001b[32m    893\u001b[39m         inline_array=inline_array,\n\u001b[32m    894\u001b[39m         chunked_array_type=chunked_array_type,\n\u001b[32m    895\u001b[39m         from_array_kwargs=from_array_kwargs,\n\u001b[32m    896\u001b[39m         backend_kwargs=backend_kwargs,\n\u001b[32m    897\u001b[39m         use_cftime=use_cftime,\n\u001b[32m    898\u001b[39m         decode_timedelta=decode_timedelta,\n\u001b[32m    899\u001b[39m         **kwargs,\n\u001b[32m    900\u001b[39m     )\n\u001b[32m    902\u001b[39m     \u001b[38;5;28;01mif\u001b[39;00m \u001b[38;5;28mlen\u001b[39m(dataset.data_vars) != \u001b[32m1\u001b[39m:\n\u001b[32m    903\u001b[39m         \u001b[38;5;28;01mif\u001b[39;00m \u001b[38;5;28mlen\u001b[39m(dataset.data_vars) == \u001b[32m0\u001b[39m:\n",
      "\u001b[36mFile \u001b[39m\u001b[32m/opt/anaconda3/envs/eopf_toolkit/lib/python3.13/site-packages/xarray/backends/api.py:688\u001b[39m, in \u001b[36mopen_dataset\u001b[39m\u001b[34m(filename_or_obj, engine, chunks, cache, decode_cf, mask_and_scale, decode_times, decode_timedelta, use_cftime, concat_characters, decode_coords, drop_variables, inline_array, chunked_array_type, from_array_kwargs, backend_kwargs, **kwargs)\u001b[39m\n\u001b[32m    676\u001b[39m decoders = _resolve_decoders_kwargs(\n\u001b[32m    677\u001b[39m     decode_cf,\n\u001b[32m    678\u001b[39m     open_backend_dataset_parameters=backend.open_dataset_parameters,\n\u001b[32m   (...)\u001b[39m\u001b[32m    684\u001b[39m     decode_coords=decode_coords,\n\u001b[32m    685\u001b[39m )\n\u001b[32m    687\u001b[39m overwrite_encoded_chunks = kwargs.pop(\u001b[33m\"\u001b[39m\u001b[33moverwrite_encoded_chunks\u001b[39m\u001b[33m\"\u001b[39m, \u001b[38;5;28;01mNone\u001b[39;00m)\n\u001b[32m--> \u001b[39m\u001b[32m688\u001b[39m backend_ds = backend.open_dataset(\n\u001b[32m    689\u001b[39m     filename_or_obj,\n\u001b[32m    690\u001b[39m     drop_variables=drop_variables,\n\u001b[32m    691\u001b[39m     **decoders,\n\u001b[32m    692\u001b[39m     **kwargs,\n\u001b[32m    693\u001b[39m )\n\u001b[32m    694\u001b[39m ds = _dataset_from_backend_dataset(\n\u001b[32m    695\u001b[39m     backend_ds,\n\u001b[32m    696\u001b[39m     filename_or_obj,\n\u001b[32m   (...)\u001b[39m\u001b[32m    706\u001b[39m     **kwargs,\n\u001b[32m    707\u001b[39m )\n\u001b[32m    708\u001b[39m \u001b[38;5;28;01mreturn\u001b[39;00m ds\n",
      "\u001b[36mFile \u001b[39m\u001b[32m/opt/anaconda3/envs/eopf_toolkit/lib/python3.13/site-packages/rioxarray/xarray_plugin.py:59\u001b[39m, in \u001b[36mRasterioBackend.open_dataset\u001b[39m\u001b[34m(self, filename_or_obj, drop_variables, parse_coordinates, lock, masked, mask_and_scale, variable, group, default_name, decode_coords, decode_times, decode_timedelta, band_as_variable, open_kwargs)\u001b[39m\n\u001b[32m     57\u001b[39m \u001b[38;5;28;01mif\u001b[39;00m open_kwargs \u001b[38;5;129;01mis\u001b[39;00m \u001b[38;5;28;01mNone\u001b[39;00m:\n\u001b[32m     58\u001b[39m     open_kwargs = {}\n\u001b[32m---> \u001b[39m\u001b[32m59\u001b[39m rds = _io.open_rasterio(\n\u001b[32m     60\u001b[39m     filename_or_obj,\n\u001b[32m     61\u001b[39m     parse_coordinates=parse_coordinates,\n\u001b[32m     62\u001b[39m     cache=\u001b[38;5;28;01mFalse\u001b[39;00m,\n\u001b[32m     63\u001b[39m     lock=lock,\n\u001b[32m     64\u001b[39m     masked=masked,\n\u001b[32m     65\u001b[39m     mask_and_scale=mask_and_scale,\n\u001b[32m     66\u001b[39m     variable=variable,\n\u001b[32m     67\u001b[39m     group=group,\n\u001b[32m     68\u001b[39m     default_name=default_name,\n\u001b[32m     69\u001b[39m     decode_times=decode_times,\n\u001b[32m     70\u001b[39m     decode_timedelta=decode_timedelta,\n\u001b[32m     71\u001b[39m     band_as_variable=band_as_variable,\n\u001b[32m     72\u001b[39m     **open_kwargs,\n\u001b[32m     73\u001b[39m )\n\u001b[32m     74\u001b[39m \u001b[38;5;28;01mif\u001b[39;00m \u001b[38;5;28misinstance\u001b[39m(rds, xarray.DataArray):\n\u001b[32m     75\u001b[39m     dataset = rds.to_dataset()\n",
      "\u001b[36mFile \u001b[39m\u001b[32m/opt/anaconda3/envs/eopf_toolkit/lib/python3.13/site-packages/rioxarray/_io.py:1135\u001b[39m, in \u001b[36mopen_rasterio\u001b[39m\u001b[34m(filename, parse_coordinates, chunks, cache, lock, masked, mask_and_scale, variable, group, default_name, decode_times, decode_timedelta, band_as_variable, **open_kwargs)\u001b[39m\n\u001b[32m   1133\u001b[39m     \u001b[38;5;28;01melse\u001b[39;00m:\n\u001b[32m   1134\u001b[39m         manager = URIManager(file_opener, filename, mode=\u001b[33m\"\u001b[39m\u001b[33mr\u001b[39m\u001b[33m\"\u001b[39m, kwargs=open_kwargs)\n\u001b[32m-> \u001b[39m\u001b[32m1135\u001b[39m     riods = manager.acquire()\n\u001b[32m   1136\u001b[39m     captured_warnings = rio_warnings.copy()\n\u001b[32m   1138\u001b[39m \u001b[38;5;66;03m# raise the NotGeoreferencedWarning if applicable\u001b[39;00m\n",
      "\u001b[36mFile \u001b[39m\u001b[32m/opt/anaconda3/envs/eopf_toolkit/lib/python3.13/site-packages/xarray/backends/file_manager.py:193\u001b[39m, in \u001b[36mCachingFileManager.acquire\u001b[39m\u001b[34m(self, needs_lock)\u001b[39m\n\u001b[32m    178\u001b[39m \u001b[38;5;28;01mdef\u001b[39;00m\u001b[38;5;250m \u001b[39m\u001b[34macquire\u001b[39m(\u001b[38;5;28mself\u001b[39m, needs_lock=\u001b[38;5;28;01mTrue\u001b[39;00m):\n\u001b[32m    179\u001b[39m \u001b[38;5;250m    \u001b[39m\u001b[33;03m\"\"\"Acquire a file object from the manager.\u001b[39;00m\n\u001b[32m    180\u001b[39m \n\u001b[32m    181\u001b[39m \u001b[33;03m    A new file is only opened if it has expired from the\u001b[39;00m\n\u001b[32m   (...)\u001b[39m\u001b[32m    191\u001b[39m \u001b[33;03m        An open file object, as returned by ``opener(*args, **kwargs)``.\u001b[39;00m\n\u001b[32m    192\u001b[39m \u001b[33;03m    \"\"\"\u001b[39;00m\n\u001b[32m--> \u001b[39m\u001b[32m193\u001b[39m     file, _ = \u001b[38;5;28mself\u001b[39m._acquire_with_cache_info(needs_lock)\n\u001b[32m    194\u001b[39m     \u001b[38;5;28;01mreturn\u001b[39;00m file\n",
      "\u001b[36mFile \u001b[39m\u001b[32m/opt/anaconda3/envs/eopf_toolkit/lib/python3.13/site-packages/xarray/backends/file_manager.py:217\u001b[39m, in \u001b[36mCachingFileManager._acquire_with_cache_info\u001b[39m\u001b[34m(self, needs_lock)\u001b[39m\n\u001b[32m    215\u001b[39m     kwargs = kwargs.copy()\n\u001b[32m    216\u001b[39m     kwargs[\u001b[33m\"\u001b[39m\u001b[33mmode\u001b[39m\u001b[33m\"\u001b[39m] = \u001b[38;5;28mself\u001b[39m._mode\n\u001b[32m--> \u001b[39m\u001b[32m217\u001b[39m file = \u001b[38;5;28mself\u001b[39m._opener(*\u001b[38;5;28mself\u001b[39m._args, **kwargs)\n\u001b[32m    218\u001b[39m \u001b[38;5;28;01mif\u001b[39;00m \u001b[38;5;28mself\u001b[39m._mode == \u001b[33m\"\u001b[39m\u001b[33mw\u001b[39m\u001b[33m\"\u001b[39m:\n\u001b[32m    219\u001b[39m     \u001b[38;5;66;03m# ensure file doesn't get overridden when opened again\u001b[39;00m\n\u001b[32m    220\u001b[39m     \u001b[38;5;28mself\u001b[39m._mode = \u001b[33m\"\u001b[39m\u001b[33ma\u001b[39m\u001b[33m\"\u001b[39m\n",
      "\u001b[36mFile \u001b[39m\u001b[32m/opt/anaconda3/envs/eopf_toolkit/lib/python3.13/site-packages/rasterio/env.py:463\u001b[39m, in \u001b[36mensure_env_with_credentials.<locals>.wrapper\u001b[39m\u001b[34m(*args, **kwds)\u001b[39m\n\u001b[32m    460\u001b[39m     session = DummySession()\n\u001b[32m    462\u001b[39m \u001b[38;5;28;01mwith\u001b[39;00m env_ctor(session=session):\n\u001b[32m--> \u001b[39m\u001b[32m463\u001b[39m     \u001b[38;5;28;01mreturn\u001b[39;00m f(*args, **kwds)\n",
      "\u001b[36mFile \u001b[39m\u001b[32m/opt/anaconda3/envs/eopf_toolkit/lib/python3.13/site-packages/rasterio/__init__.py:356\u001b[39m, in \u001b[36mopen\u001b[39m\u001b[34m(fp, mode, driver, width, height, count, crs, transform, dtype, nodata, sharing, opener, **kwargs)\u001b[39m\n\u001b[32m    353\u001b[39m     path = _parse_path(raw_dataset_path)\n\u001b[32m    355\u001b[39m \u001b[38;5;28;01mif\u001b[39;00m mode == \u001b[33m\"\u001b[39m\u001b[33mr\u001b[39m\u001b[33m\"\u001b[39m:\n\u001b[32m--> \u001b[39m\u001b[32m356\u001b[39m     dataset = DatasetReader(path, driver=driver, sharing=sharing, **kwargs)\n\u001b[32m    357\u001b[39m \u001b[38;5;28;01melif\u001b[39;00m mode == \u001b[33m\"\u001b[39m\u001b[33mr+\u001b[39m\u001b[33m\"\u001b[39m:\n\u001b[32m    358\u001b[39m     dataset = get_writer_for_path(path, driver=driver)(\n\u001b[32m    359\u001b[39m         path, mode, driver=driver, sharing=sharing, **kwargs\n\u001b[32m    360\u001b[39m     )\n",
      "\u001b[36mFile \u001b[39m\u001b[32mrasterio/_base.pyx:312\u001b[39m, in \u001b[36mrasterio._base.DatasetBase.__init__\u001b[39m\u001b[34m()\u001b[39m\n",
      "\u001b[31mRasterioIOError\u001b[39m: notebooks/output_SRTMGL3.tif: No such file or directory"
     ]
    }
   ],
   "source": [
    "dem_raster = scene.open_dem_raster(dem_urlpath)\n",
    "_ = dem_raster.plot()"
   ]
  },
  {
   "cell_type": "code",
   "execution_count": null,
   "id": "b73dcd47",
   "metadata": {
    "scrolled": false
   },
   "outputs": [],
   "source": [
    "dem_UTM_corners = dict(x=slice(350000, 400000), y=slice(4710000, 4660000))\n",
    "\n",
    "resolution = (10, 10)\n",
    "\n",
    "t_srs = dem_raster.rio.estimate_utm_crs()\n",
    "dem_raster_10m_UTM = dem_raster.rio.reproject(t_srs, resolution=resolution)\n",
    "\n",
    "dem_raster_10m_UTM = dem_raster_10m_UTM.sel(**dem_UTM_corners)\n",
    "\n",
    "dem_raster_10m_UTM.rio.to_raster(dem_10m_UTM_urlpath)\n",
    "dem_raster_10m_UTM"
   ]
  },
  {
   "cell_type": "code",
   "execution_count": 15,
   "id": "1e4b97a6",
   "metadata": {
    "scrolled": false
   },
   "outputs": [
    {
     "data": {
      "text/plain": [
       "<matplotlib.collections.QuadMesh at 0x302efa5d0>"
      ]
     },
     "execution_count": 15,
     "metadata": {},
     "output_type": "execute_result"
    }
   ],
   "source": [
    "dem_raster.plot()"
   ]
  },
  {
   "cell_type": "markdown",
   "id": "1a7a2326-e415-4dd3-9858-a31bff62591d",
   "metadata": {},
   "source": [
    "## download data"
   ]
  },
  {
   "cell_type": "code",
   "execution_count": null,
   "id": "ac77356e",
   "metadata": {},
   "outputs": [],
   "source": [
    "import os\n",
    "\n",
    "import adlfs\n",
    "import planetary_computer\n",
    "import pystac_client\n",
    "import stackstac\n",
    "\n",
    "\n",
    "def mirror_folder(fs, bucket, folder, exclude=\"vh\"):\n",
    "    for path, folders, files in fs.walk(f\"{bucket}/{folder}\"):\n",
    "        os.makedirs(path[len(bucket) + 1 :], exist_ok=True)\n",
    "        for f in files:\n",
    "            if exclude in f:\n",
    "                continue\n",
    "            file_path = os.path.join(path, f)\n",
    "            lfile_path = file_path[len(bucket) + 1 :]\n",
    "            if not os.path.isfile(lfile_path):\n",
    "                print(file_path)\n",
    "                fs.download(file_path, lfile_path + \"~\")\n",
    "                os.rename(lfile_path + \"~\", lfile_path)"
   ]
  },
  {
   "cell_type": "code",
   "execution_count": null,
   "id": "90c5f13f",
   "metadata": {},
   "outputs": [],
   "source": [
    "grd_account_name = \"sentinel1euwest\"\n",
    "grd_bucket = \"s1-grd\"\n",
    "grd_token = planetary_computer.sas.get_token(grd_account_name, grd_bucket).token\n",
    "\n",
    "grd_product_folder = f\"{grd_bucket}/{product_folder}\"\n",
    "\n",
    "grd_fs = adlfs.AzureBlobFileSystem(grd_account_name, credential=grd_token)\n",
    "grd_fs.ls(grd_product_folder)"
   ]
  },
  {
   "cell_type": "code",
   "execution_count": null,
   "id": "6fc9f6e6",
   "metadata": {
    "scrolled": false
   },
   "outputs": [],
   "source": [
    "mirror_folder(grd_fs, grd_bucket, product_folder)"
   ]
  },
  {
   "cell_type": "code",
   "execution_count": null,
   "id": "69b4a3d3",
   "metadata": {},
   "outputs": [],
   "source": [
    "ds = xr.open_dataset(\n",
    "    product_folder,\n",
    "    engine=\"sentinel-1\",\n",
    "    group=measurement_group,\n",
    "    # storage_options=storage_options,\n",
    "    override_product_files=\"{dirname}/{prefix}{swath}-{polarization}{ext}\",\n",
    "    chunks={\"slant_range_time\": 2048},\n",
    ")\n",
    "ds"
   ]
  },
  {
   "cell_type": "code",
   "execution_count": null,
   "id": "5a579f9c",
   "metadata": {},
   "outputs": [],
   "source": [
    "rtc_account_name = \"sentinel1euwestrtc\"\n",
    "rtc_bucket = \"sentinel1-grd-rtc\"\n",
    "rtc_token = planetary_computer.sas.get_token(rtc_account_name, rtc_bucket).token\n",
    "\n",
    "rtc_product_folder = f\"{rtc_bucket}/{product_folder}\"\n",
    "\n",
    "rtc_fs = adlfs.AzureBlobFileSystem(rtc_account_name, credential=rtc_token)\n",
    "rtc_fs.ls(rtc_product_folder)"
   ]
  },
  {
   "cell_type": "code",
   "execution_count": null,
   "id": "ce44debc",
   "metadata": {},
   "outputs": [],
   "source": [
    "mirror_folder(rtc_fs, rtc_bucket, product_folder)"
   ]
  },
  {
   "cell_type": "markdown",
   "id": "89f8c899",
   "metadata": {},
   "source": [
    "## process"
   ]
  },
  {
   "cell_type": "markdown",
   "id": "5a308418",
   "metadata": {},
   "source": [
    "#### GTC"
   ]
  },
  {
   "cell_type": "code",
   "execution_count": null,
   "id": "41add520",
   "metadata": {
    "scrolled": false
   },
   "outputs": [],
   "source": [
    "%%time\n",
    "\n",
    "gtc_path = os.path.basename(product_folder) + \".10m.GTC.tif\"\n",
    "\n",
    "apps.terrain_correction(\n",
    "    product_folder,\n",
    "    measurement_group,\n",
    "    dem_10m_UTM_urlpath,\n",
    "    interp_method=\"nearest\",\n",
    "    override_product_files=\"{dirname}/{prefix}{swath}-{polarization}{ext}\",\n",
    "    chunks={\"slant_range_time\": 2048},\n",
    "    output_urlpath=gtc_path,\n",
    ")\n",
    "\n",
    "!gdaladdo -r average {gtc_path}\n",
    "\n",
    "gtc_path"
   ]
  },
  {
   "cell_type": "code",
   "execution_count": null,
   "id": "27a84435",
   "metadata": {},
   "outputs": [],
   "source": [
    "gtc = xr.open_dataarray(gtc_path).drop(\"band\")\n",
    "gtc.plot(vmax=0.4);"
   ]
  },
  {
   "cell_type": "markdown",
   "id": "c7399622",
   "metadata": {},
   "source": [
    "#### RTC"
   ]
  },
  {
   "cell_type": "code",
   "execution_count": null,
   "id": "bfdd3e96",
   "metadata": {
    "scrolled": false
   },
   "outputs": [],
   "source": [
    "%%time\n",
    "\n",
    "rtc_path = os.path.basename(product_folder) + \".10m.RTC.tif\"\n",
    "\n",
    "apps.terrain_correction(\n",
    "    product_folder,\n",
    "    measurement_group,\n",
    "    dem_10m_UTM_urlpath,\n",
    "    interp_method=\"nearest\",\n",
    "    override_product_files=\"{dirname}/{prefix}{swath}-{polarization}{ext}\",\n",
    "    correct_radiometry=\"gamma_bilinear\",\n",
    "    output_urlpath=rtc_path,\n",
    "    grouping_area_factor=(3, 3),\n",
    ")\n",
    "\n",
    "!gdaladdo -r average {rtc_path}\n",
    "\n",
    "rtc_path"
   ]
  },
  {
   "cell_type": "code",
   "execution_count": null,
   "id": "849a9019",
   "metadata": {},
   "outputs": [],
   "source": [
    "rtc = xr.open_dataarray(rtc_path, cache=False).drop(\"band\")\n",
    "rtc.plot(vmax=0.4);"
   ]
  },
  {
   "cell_type": "code",
   "execution_count": null,
   "id": "6226ee75",
   "metadata": {
    "scrolled": false
   },
   "outputs": [],
   "source": [
    "f, axes = plt.subplots(nrows=1, ncols=2, figsize=(30, 12))\n",
    "\n",
    "gtc.plot(ax=axes[0], vmax=0.4)\n",
    "axes[0].grid(c=\"red\")\n",
    "\n",
    "rtc.plot(ax=axes[1], vmax=0.4)\n",
    "axes[1].grid(c=\"red\")\n",
    "\n",
    "plt.tight_layout()"
   ]
  },
  {
   "cell_type": "code",
   "execution_count": null,
   "id": "d66d4126",
   "metadata": {},
   "outputs": [],
   "source": [
    "rtc_pc = xr.open_dataarray(\n",
    "    product_folder + \"/measurement/iw-vv.rtc.tiff\", cache=False\n",
    ").drop(\"band\")\n",
    "rtc_pc = rtc_pc.sel(dem_UTM_corners)\n",
    "rtc_pc"
   ]
  },
  {
   "cell_type": "code",
   "execution_count": null,
   "id": "5a58503d",
   "metadata": {},
   "outputs": [],
   "source": [
    "f, axes = plt.subplots(nrows=1, ncols=2, figsize=(30, 12))\n",
    "\n",
    "rtc_pc.plot(ax=axes[0], vmax=0.4)\n",
    "axes[0].grid(c=\"red\")\n",
    "\n",
    "rtc.plot(ax=axes[1], vmax=0.4)\n",
    "axes[1].grid(c=\"red\")\n",
    "\n",
    "plt.tight_layout()"
   ]
  },
  {
   "cell_type": "code",
   "execution_count": null,
   "id": "b5fa5ec6",
   "metadata": {},
   "outputs": [],
   "source": []
  }
 ],
 "metadata": {
  "kernelspec": {
   "display_name": "eopf_toolkit",
   "language": "python",
   "name": "python3"
  },
  "language_info": {
   "codemirror_mode": {
    "name": "ipython",
    "version": 3
   },
   "file_extension": ".py",
   "mimetype": "text/x-python",
   "name": "python",
   "nbconvert_exporter": "python",
   "pygments_lexer": "ipython3",
   "version": "3.13.5"
  }
 },
 "nbformat": 4,
 "nbformat_minor": 5
}
